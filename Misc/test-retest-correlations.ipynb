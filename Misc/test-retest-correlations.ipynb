{
 "cells": [
  {
   "cell_type": "markdown",
   "metadata": {},
   "source": [
    "# test-retest correlation scores"
   ]
  },
  {
   "cell_type": "markdown",
   "metadata": {},
   "source": [
    "### expressive stimuli"
   ]
  },
  {
   "cell_type": "code",
   "execution_count": 5,
   "metadata": {},
   "outputs": [],
   "source": [
    "from glob import glob\n",
    "import pandas as pd\n",
    "import numpy as np"
   ]
  },
  {
   "cell_type": "code",
   "execution_count": 6,
   "metadata": {},
   "outputs": [
    {
     "name": "stdout",
     "output_type": "stream",
     "text": [
      "0.8443110383083372\n",
      "0.8710033572650547\n"
     ]
    }
   ],
   "source": [
    "files = glob('/srv/FEED/behav_data/sub-01/*run*.tsv')\n",
    "files.sort()\n",
    "dfs_test = []\n",
    "for file in files:\n",
    "    f = pd.read_csv(file, sep = '\\t', index_col=0)\n",
    "    f = f[f.data_split == 'test']\n",
    "    f = f[f.rating_type == 'circumplex']\n",
    "    dfs_test.append(f)\n",
    "df_ses1 = pd.concat(dfs_test[:3])\n",
    "df_ses2 = pd.concat(dfs_test[4:7])\n",
    "df_ses3 = pd.concat(dfs_test[8:11])\n",
    "\n",
    "df_ses_list = [df_ses1,df_ses2, df_ses3]\n",
    "\n",
    "arousal_score = {key : [] for key in df_ses1.trial_type.unique()}\n",
    "valence_score = {key : [] for key in df_ses1.trial_type.unique()}\n",
    "for ses in df_ses_list:\n",
    "    for trial in ses.trial_type.unique():\n",
    "        arousal_score[trial].append(ses.rating_arousal_norm[ses.trial_type == trial].values[0])\n",
    "        valence_score[trial].append(ses.rating_valence_norm[ses.trial_type == trial].values[0])\n",
    "    \n",
    "df_arousal = pd.DataFrame(arousal_score).T\n",
    "all_cor_ar = np.tril(df_arousal.corr(method='pearson').values, -1)\n",
    "print(np.sum(all_cor_ar)/3)\n",
    "\n",
    "df_valence = pd.DataFrame(valence_score).T\n",
    "all_cor_val = np.tril(df_valence.corr(method='pearson').values, -1)\n",
    "print(np.sum(all_cor_val)/3)"
   ]
  },
  {
   "cell_type": "markdown",
   "metadata": {},
   "source": [
    "### Neutral stimuli"
   ]
  },
  {
   "cell_type": "code",
   "execution_count": 8,
   "metadata": {},
   "outputs": [
    {
     "name": "stdout",
     "output_type": "stream",
     "text": [
      "dominance: 0.760740, attractiveness: 0.880665, trustworthiness: 0.770462, valence: 0.773338, arousal 0.527969\n"
     ]
    }
   ],
   "source": [
    "files = glob('/srv/FEED/behav_data/sub-01/*neutral*.tsv')\n",
    "dfs = []\n",
    "for f in files:\n",
    "    f = pd.read_csv(f, sep = '\\t', index_col = 0)\n",
    "    dfs.append(f)\n",
    "    \n",
    "dom = {key : [] for key in dfs[0].trial_type.unique()}\n",
    "att = {key : [] for key in dfs[0].trial_type.unique()}\n",
    "trust = {key : [] for key in dfs[0].trial_type.unique()}\n",
    "valence = {key : [] for key in dfs[0].trial_type.unique()}\n",
    "arousal = {key : [] for key in dfs[0].trial_type.unique()}\n",
    "\n",
    "for df in dfs:\n",
    "    dom_df = df.loc[df.rating_dominance.dropna().index,:]\n",
    "    att_df = df.loc[df.rating_attractiveness.dropna().index,:]\n",
    "    trust_df = df.loc[df.rating_trustworthiness.dropna().index,:]\n",
    "    arrval_df = df.loc[df.rating_valence_norm.dropna().index,:]\n",
    "    \n",
    "    for trial in df.trial_type.unique():\n",
    "        dom[trial].append(dom_df.rating_dominance[dom_df.trial_type == trial].values[0])\n",
    "        att[trial].append(att_df.rating_attractiveness[att_df.trial_type == trial].values[0])\n",
    "        trust[trial].append(trust_df.rating_trustworthiness[trust_df.trial_type == trial].values[0])\n",
    "        valence[trial].append(arrval_df.rating_valence_norm[arrval_df.trial_type == trial].values[0])\n",
    "        arousal[trial].append(arrval_df.rating_arousal_norm[arrval_df.trial_type == trial].values[0])\n",
    "\n",
    "\n",
    "corr_dom = pd.DataFrame(dom).T.corr(method = 'pearson').loc[1,0]\n",
    "corr_att = pd.DataFrame(att).T.corr(method = 'pearson').loc[1,0]\n",
    "corr_trust = pd.DataFrame(trust).T.corr(method = 'pearson').loc[1,0]\n",
    "corr_valence = pd.DataFrame(valence).T.corr(method = 'pearson').loc[1,0]\n",
    "corr_arousal = pd.DataFrame(arousal).T.corr(method = 'pearson').loc[1,0]\n",
    "print('dominance: %f, attractiveness: %f, trustworthiness: %f, valence: %f, arousal %f' %(corr_dom, corr_att,\n",
    "                                                                                          corr_trust,corr_valence,\n",
    "                                                                                          corr_arousal))"
   ]
  }
 ],
 "metadata": {
  "kernelspec": {
   "display_name": "Python 3",
   "language": "python",
   "name": "python3"
  },
  "language_info": {
   "codemirror_mode": {
    "name": "ipython",
    "version": 3
   },
   "file_extension": ".py",
   "mimetype": "text/x-python",
   "name": "python",
   "nbconvert_exporter": "python",
   "pygments_lexer": "ipython3",
   "version": "3.6.6"
  }
 },
 "nbformat": 4,
 "nbformat_minor": 2
}
